{
 "cells": [
  {
   "cell_type": "markdown",
   "id": "2d7b10d4",
   "metadata": {},
   "source": [
    "# Avro\n"
   ]
  },
  {
   "cell_type": "raw",
   "id": "3f26a798",
   "metadata": {},
   "source": [
    "#users.csv\n",
    "\n",
    "name,favorite_number,favorite_color\n",
    "Alyssa,256\n",
    "Ben,7,red"
   ]
  },
  {
   "cell_type": "raw",
   "id": "ba2ec76a",
   "metadata": {},
   "source": [
    "#users.avsc\n",
    "\n",
    "{\"namespace\": \"example.avro\",\n",
    " \"type\": \"record\",\n",
    " \"name\": \"User\",\n",
    " \"fields\": [\n",
    "     {\"name\": \"name\", \"type\": \"string\"},\n",
    "     {\"name\": \"favorite_number\",  \"type\": [\"int\", \"null\"]},\n",
    "     {\"name\": \"favorite_color\", \"type\": [\"string\", \"null\"]}\n",
    " ]\n",
    "}"
   ]
  },
  {
   "cell_type": "code",
   "execution_count": null,
   "id": "9034f99d",
   "metadata": {},
   "outputs": [],
   "source": [
    "!pip install avro"
   ]
  },
  {
   "cell_type": "code",
   "execution_count": null,
   "id": "3ee962bf",
   "metadata": {},
   "outputs": [],
   "source": [
    "import avro.schema\n",
    "from avro.datafile import DataFileReader, DataFileWriter\n",
    "from avro.io import DatumReader, DatumWriter"
   ]
  },
  {
   "cell_type": "code",
   "execution_count": null,
   "id": "fb828d96",
   "metadata": {},
   "outputs": [],
   "source": [
    "schema = avro.schema.parse(open(\"users.avsc\", \"rb\").read())"
   ]
  },
  {
   "cell_type": "code",
   "execution_count": null,
   "id": "b09141aa",
   "metadata": {},
   "outputs": [],
   "source": [
    "writer = DataFileWriter(open(\"users.avro\", \"wb\"), DatumWriter(), schema)\n",
    "writer.append({\"name\": \"Alyssa\", \"favorite_number\": 256})\n",
    "writer.append({\"name\": \"Ben\", \"favorite_number\": 7, \"favorite_color\": \"red\"})\n",
    "writer.close()"
   ]
  },
  {
   "cell_type": "code",
   "execution_count": null,
   "id": "573510cd",
   "metadata": {},
   "outputs": [],
   "source": [
    "reader = DataFileReader(open(\"users.avro\", \"rb\"), DatumReader())\n",
    "for user in reader:\n",
    "    print (user)\n",
    "reader.close()"
   ]
  },
  {
   "cell_type": "code",
   "execution_count": null,
   "id": "4a00667e",
   "metadata": {},
   "outputs": [],
   "source": [
    "!od -A x -t x1z -v users.avro"
   ]
  },
  {
   "cell_type": "markdown",
   "id": "8843e714",
   "metadata": {},
   "source": [
    "# Parquet"
   ]
  },
  {
   "cell_type": "code",
   "execution_count": null,
   "id": "edbc2a91",
   "metadata": {},
   "outputs": [],
   "source": [
    "import os\n",
    "import pyarrow.csv as pv\n",
    "import pyarrow.parquet as pq"
   ]
  },
  {
   "cell_type": "code",
   "execution_count": null,
   "id": "be501228",
   "metadata": {},
   "outputs": [],
   "source": [
    "table = pv.read_csv('users.csv')\n",
    "pq.write_table(table, 'users.parquet')"
   ]
  },
  {
   "cell_type": "code",
   "execution_count": null,
   "id": "53f4733e",
   "metadata": {},
   "outputs": [],
   "source": [
    "pq.read_table('users.parquet')"
   ]
  },
  {
   "cell_type": "code",
   "execution_count": null,
   "id": "e045ecd0",
   "metadata": {},
   "outputs": [],
   "source": [
    "print(\"Schema: {}\".format(pq.read_table('users.parquet').schema))"
   ]
  },
  {
   "cell_type": "code",
   "execution_count": null,
   "id": "1f5269f2",
   "metadata": {},
   "outputs": [],
   "source": [
    "!od -A x -t x1z -v users.parquet"
   ]
  },
  {
   "cell_type": "markdown",
   "id": "bf497ac9",
   "metadata": {},
   "source": [
    "# ORC"
   ]
  },
  {
   "cell_type": "code",
   "execution_count": null,
   "id": "89d145e9",
   "metadata": {
    "scrolled": true
   },
   "outputs": [],
   "source": [
    "import os\n",
    "import pyorc\n",
    "import pandas as pd"
   ]
  },
  {
   "cell_type": "code",
   "execution_count": null,
   "id": "431daf62",
   "metadata": {},
   "outputs": [],
   "source": [
    "df = pd.read_csv('users.csv')\n",
    "df"
   ]
  },
  {
   "cell_type": "code",
   "execution_count": null,
   "id": "779ded4d",
   "metadata": {},
   "outputs": [],
   "source": [
    "with open(\"users.orc\", \"wb\") as data:\n",
    "    with pyorc.Writer(data, \"struct<col0:string,col1:int,col2:string>\") as writer:\n",
    "        writer.write((df.name[0], df.favorite_number[0], df.favorite_color[0]))\n",
    "        writer.write((df.name[1], df.favorite_number[1], df.favorite_color[1]))"
   ]
  },
  {
   "cell_type": "code",
   "execution_count": null,
   "id": "e7ee6ab3",
   "metadata": {},
   "outputs": [],
   "source": [
    "!od -A x -t x1z -v users.orc"
   ]
  },
  {
   "cell_type": "code",
   "execution_count": null,
   "id": "fd79ff48",
   "metadata": {
    "scrolled": false
   },
   "outputs": [],
   "source": [
    "!ls -al"
   ]
  }
 ],
 "metadata": {
  "kernelspec": {
   "display_name": "Python 3 (ipykernel)",
   "language": "python",
   "name": "python3"
  },
  "language_info": {
   "codemirror_mode": {
    "name": "ipython",
    "version": 3
   },
   "file_extension": ".py",
   "mimetype": "text/x-python",
   "name": "python",
   "nbconvert_exporter": "python",
   "pygments_lexer": "ipython3",
   "version": "3.9.7"
  }
 },
 "nbformat": 4,
 "nbformat_minor": 5
}
